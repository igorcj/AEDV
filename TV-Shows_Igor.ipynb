{
 "cells": [
  {
   "cell_type": "markdown",
   "metadata": {},
   "source": [
    "# Trabalho de AEDV (A1)\n",
    "    Igor Cortes Junqueira\n",
    "    Igor Patricio Michels"
   ]
  },
  {
   "cell_type": "markdown",
   "metadata": {},
   "source": [
    "Preparação do ambiente:"
   ]
  },
  {
   "cell_type": "code",
   "execution_count": 3,
   "metadata": {},
   "outputs": [
    {
     "name": "stderr",
     "output_type": "stream",
     "text": [
      "Warning message:\n",
      "“Missing column names filled in: 'X1' [1]”\n",
      "\n",
      "\u001b[36m──\u001b[39m \u001b[1m\u001b[1mColumn specification\u001b[1m\u001b[22m \u001b[36m────────────────────────────────────────────────────────\u001b[39m\n",
      "cols(\n",
      "  X1 = \u001b[32mcol_double()\u001b[39m,\n",
      "  Title = \u001b[31mcol_character()\u001b[39m,\n",
      "  Year = \u001b[32mcol_double()\u001b[39m,\n",
      "  Age = \u001b[31mcol_character()\u001b[39m,\n",
      "  IMDb = \u001b[32mcol_double()\u001b[39m,\n",
      "  `Rotten Tomatoes` = \u001b[31mcol_character()\u001b[39m,\n",
      "  Netflix = \u001b[32mcol_double()\u001b[39m,\n",
      "  Hulu = \u001b[32mcol_double()\u001b[39m,\n",
      "  `Prime Video` = \u001b[32mcol_double()\u001b[39m,\n",
      "  `Disney+` = \u001b[32mcol_double()\u001b[39m,\n",
      "  type = \u001b[32mcol_double()\u001b[39m\n",
      ")\n",
      "\n",
      "\n"
     ]
    }
   ],
   "source": [
    "library(readr)\n",
    "shows <- read_csv(\"tv_shows.csv\")"
   ]
  },
  {
   "cell_type": "markdown",
   "metadata": {},
   "source": [
    "Conhecendo a base:"
   ]
  },
  {
   "cell_type": "code",
   "execution_count": 7,
   "metadata": {},
   "outputs": [
    {
     "data": {
      "text/html": [
       "<table class=\"dataframe\">\n",
       "<caption>A tibble: 6 × 11</caption>\n",
       "<thead>\n",
       "\t<tr><th scope=col>X1</th><th scope=col>Title</th><th scope=col>Year</th><th scope=col>Age</th><th scope=col>IMDb</th><th scope=col>Rotten Tomatoes</th><th scope=col>Netflix</th><th scope=col>Hulu</th><th scope=col>Prime Video</th><th scope=col>Disney+</th><th scope=col>type</th></tr>\n",
       "\t<tr><th scope=col>&lt;dbl&gt;</th><th scope=col>&lt;chr&gt;</th><th scope=col>&lt;dbl&gt;</th><th scope=col>&lt;chr&gt;</th><th scope=col>&lt;dbl&gt;</th><th scope=col>&lt;chr&gt;</th><th scope=col>&lt;dbl&gt;</th><th scope=col>&lt;dbl&gt;</th><th scope=col>&lt;dbl&gt;</th><th scope=col>&lt;dbl&gt;</th><th scope=col>&lt;dbl&gt;</th></tr>\n",
       "</thead>\n",
       "<tbody>\n",
       "\t<tr><td>0</td><td>Breaking Bad    </td><td>2008</td><td>18+</td><td>9.5</td><td>96%</td><td>1</td><td>0</td><td>0</td><td>0</td><td>1</td></tr>\n",
       "\t<tr><td>1</td><td>Stranger Things </td><td>2016</td><td>16+</td><td>8.8</td><td>93%</td><td>1</td><td>0</td><td>0</td><td>0</td><td>1</td></tr>\n",
       "\t<tr><td>2</td><td>Money Heist     </td><td>2017</td><td>18+</td><td>8.4</td><td>91%</td><td>1</td><td>0</td><td>0</td><td>0</td><td>1</td></tr>\n",
       "\t<tr><td>3</td><td>Sherlock        </td><td>2010</td><td>16+</td><td>9.1</td><td>78%</td><td>1</td><td>0</td><td>0</td><td>0</td><td>1</td></tr>\n",
       "\t<tr><td>4</td><td>Better Call Saul</td><td>2015</td><td>18+</td><td>8.7</td><td>97%</td><td>1</td><td>0</td><td>0</td><td>0</td><td>1</td></tr>\n",
       "\t<tr><td>5</td><td>The Office      </td><td>2005</td><td>16+</td><td>8.9</td><td>81%</td><td>1</td><td>0</td><td>0</td><td>0</td><td>1</td></tr>\n",
       "</tbody>\n",
       "</table>\n"
      ],
      "text/latex": [
       "A tibble: 6 × 11\n",
       "\\begin{tabular}{lllllllllll}\n",
       " X1 & Title & Year & Age & IMDb & Rotten Tomatoes & Netflix & Hulu & Prime Video & Disney+ & type\\\\\n",
       " <dbl> & <chr> & <dbl> & <chr> & <dbl> & <chr> & <dbl> & <dbl> & <dbl> & <dbl> & <dbl>\\\\\n",
       "\\hline\n",
       "\t 0 & Breaking Bad     & 2008 & 18+ & 9.5 & 96\\% & 1 & 0 & 0 & 0 & 1\\\\\n",
       "\t 1 & Stranger Things  & 2016 & 16+ & 8.8 & 93\\% & 1 & 0 & 0 & 0 & 1\\\\\n",
       "\t 2 & Money Heist      & 2017 & 18+ & 8.4 & 91\\% & 1 & 0 & 0 & 0 & 1\\\\\n",
       "\t 3 & Sherlock         & 2010 & 16+ & 9.1 & 78\\% & 1 & 0 & 0 & 0 & 1\\\\\n",
       "\t 4 & Better Call Saul & 2015 & 18+ & 8.7 & 97\\% & 1 & 0 & 0 & 0 & 1\\\\\n",
       "\t 5 & The Office       & 2005 & 16+ & 8.9 & 81\\% & 1 & 0 & 0 & 0 & 1\\\\\n",
       "\\end{tabular}\n"
      ],
      "text/markdown": [
       "\n",
       "A tibble: 6 × 11\n",
       "\n",
       "| X1 &lt;dbl&gt; | Title &lt;chr&gt; | Year &lt;dbl&gt; | Age &lt;chr&gt; | IMDb &lt;dbl&gt; | Rotten Tomatoes &lt;chr&gt; | Netflix &lt;dbl&gt; | Hulu &lt;dbl&gt; | Prime Video &lt;dbl&gt; | Disney+ &lt;dbl&gt; | type &lt;dbl&gt; |\n",
       "|---|---|---|---|---|---|---|---|---|---|---|\n",
       "| 0 | Breaking Bad     | 2008 | 18+ | 9.5 | 96% | 1 | 0 | 0 | 0 | 1 |\n",
       "| 1 | Stranger Things  | 2016 | 16+ | 8.8 | 93% | 1 | 0 | 0 | 0 | 1 |\n",
       "| 2 | Money Heist      | 2017 | 18+ | 8.4 | 91% | 1 | 0 | 0 | 0 | 1 |\n",
       "| 3 | Sherlock         | 2010 | 16+ | 9.1 | 78% | 1 | 0 | 0 | 0 | 1 |\n",
       "| 4 | Better Call Saul | 2015 | 18+ | 8.7 | 97% | 1 | 0 | 0 | 0 | 1 |\n",
       "| 5 | The Office       | 2005 | 16+ | 8.9 | 81% | 1 | 0 | 0 | 0 | 1 |\n",
       "\n"
      ],
      "text/plain": [
       "  X1 Title            Year Age IMDb Rotten Tomatoes Netflix Hulu Prime Video\n",
       "1 0  Breaking Bad     2008 18+ 9.5  96%             1       0    0          \n",
       "2 1  Stranger Things  2016 16+ 8.8  93%             1       0    0          \n",
       "3 2  Money Heist      2017 18+ 8.4  91%             1       0    0          \n",
       "4 3  Sherlock         2010 16+ 9.1  78%             1       0    0          \n",
       "5 4  Better Call Saul 2015 18+ 8.7  97%             1       0    0          \n",
       "6 5  The Office       2005 16+ 8.9  81%             1       0    0          \n",
       "  Disney+ type\n",
       "1 0       1   \n",
       "2 0       1   \n",
       "3 0       1   \n",
       "4 0       1   \n",
       "5 0       1   \n",
       "6 0       1   "
      ]
     },
     "metadata": {},
     "output_type": "display_data"
    }
   ],
   "source": [
    "head(shows)"
   ]
  }
 ],
 "metadata": {
  "kernelspec": {
   "display_name": "R",
   "language": "R",
   "name": "ir"
  },
  "language_info": {
   "codemirror_mode": "r",
   "file_extension": ".r",
   "mimetype": "text/x-r-source",
   "name": "R",
   "pygments_lexer": "r",
   "version": "4.0.2"
  }
 },
 "nbformat": 4,
 "nbformat_minor": 4
}
