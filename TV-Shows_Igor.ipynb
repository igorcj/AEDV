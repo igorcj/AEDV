{
 "cells": [
  {
   "cell_type": "markdown",
   "metadata": {},
   "source": [
    "# Trabalho de AEDV (A1)\n",
    "    Igor Cortes Junqueira\n",
    "    Igor Patricio Michels"
   ]
  },
  {
   "cell_type": "markdown",
   "metadata": {},
   "source": [
    "Preparação do ambiente:"
   ]
  },
  {
   "cell_type": "code",
   "execution_count": 118,
   "metadata": {},
   "outputs": [
    {
     "ename": "ERROR",
     "evalue": "Error in library(rlist): there is no package called ‘rlist’\n",
     "output_type": "error",
     "traceback": [
      "Error in library(rlist): there is no package called ‘rlist’\nTraceback:\n",
      "1. library(rlist)"
     ]
    }
   ],
   "source": [
    "library(readr)\n",
    "library(stringr)\n",
    "library(rlist)\n",
    "library(dplyr)\n",
    "shows <- read_csv(\"tv_shows.csv\")\n",
    "disney <- read_csv(\"disney_plus_shows.csv\")\n",
    "netflix <- read_csv(\"netflix_titles.csv\")\n",
    "prime <- read_csv(\"Prime TV Shows Data set.csv\")"
   ]
  },
  {
   "cell_type": "markdown",
   "metadata": {},
   "source": [
    "Compondo a base do trabalho:"
   ]
  },
  {
   "cell_type": "code",
   "execution_count": 116,
   "metadata": {},
   "outputs": [
    {
     "name": "stdout",
     "output_type": "stream",
     "text": [
      "Rows: 4,143\n",
      "Columns: 7\n",
      "$ Title           \u001b[3m\u001b[90m<chr>\u001b[39m\u001b[23m \"Breaking Bad\", \"Stranger Things\", \"Money Heist\", \"Sh…\n",
      "$ Year            \u001b[3m\u001b[90m<dbl>\u001b[39m\u001b[23m 2008, 2016, 2017, 2010, 2015, 2005, 2011, 2005, 2005,…\n",
      "$ Age             \u001b[3m\u001b[90m<chr>\u001b[39m\u001b[23m \"18+\", \"16+\", \"18+\", \"16+\", \"18+\", \"16+\", \"18+\", \"16+…\n",
      "$ IMDb            \u001b[3m\u001b[90m<dbl>\u001b[39m\u001b[23m 9.5, 8.8, 8.4, 9.1, 8.7, 8.9, 8.8, 8.4, 8.4, 8.8, 9.2…\n",
      "$ Rotten_Tomatoes \u001b[3m\u001b[90m<chr>\u001b[39m\u001b[23m \"96%\", \"93%\", \"91%\", \"78%\", \"97%\", \"81%\", \"83%\", \"93%…\n",
      "$ Streamings      \u001b[3m\u001b[90m<chr>\u001b[39m\u001b[23m \"Netflix\", \"Netflix\", \"Netflix\", \"Netflix\", \"Netflix\"…\n",
      "$ Genre           \u001b[3m\u001b[90m<chr>\u001b[39m\u001b[23m \"Crime TV Shows, TV Dramas, TV Thrillers\", \"TV Horror…\n"
     ]
    },
    {
     "ename": "ERROR",
     "evalue": "Error in gens.filter(gens[[1]] == \" Dramas\"): não foi possível encontrar a função \"gens.filter\"\n",
     "output_type": "error",
     "traceback": [
      "Error in gens.filter(gens[[1]] == \" Dramas\"): não foi possível encontrar a função \"gens.filter\"\nTraceback:\n"
     ]
    }
   ],
   "source": [
    "# Limpando o databse conjunto para os dados relevantes\n",
    "\n",
    "\n",
    "cshows <- shows %>% mutate(Streamings=paste(sep=\" \", ifelse(Netflix==1,\"Netflix\",\"\"),\n",
    "                                                ifelse(Prime_Video==1,\"Prime\",\"\"),\n",
    "                                                ifelse(DisneyPlus==1,\"Disney\",\"\")) %>%\n",
    "                                      trimws() %>% str_replace(\" \",\", \")) %>%\n",
    "                    select(-Netflix,-Hulu,-Prime_Video,-DisneyPlus,-type,-ID)\n",
    "\n",
    "cshows <- subset(cshows,Streamings!=\"NA, NA NA\" & Streamings!=\"\")\n",
    "\n",
    "\n",
    "\n",
    "\n",
    "# Importanto Genero dos demais databases\n",
    "\n",
    "t1 <- netflix %>% mutate(Title=title, Genre=listed_in) %>% select(Title,Genre) \n",
    "t2 <- prime %>% mutate(Title=) %>% select(Title,Genre)\n",
    "t3 <- disney %>% mutate(Title=title,Genre=genre) %>% select(Title,Genre)\n",
    "gb <- c(\"Title\", \"Genre\")\n",
    "t <- full_join(t1, full_join(t2, t3, by = gb), by = gb)\n",
    "\n",
    "cshows <- left_join(cshows, t, by='Title')\n",
    "glimpse(cshows)\n",
    "\n",
    "x <- \"\"\n",
    "for(g in cshows[,'Genre'][[1]]){\n",
    "    x<- paste(x,trimws(str_replace_all(g,\"TV\",\"\")),sep=\",\")\n",
    "}\n",
    "\n",
    "gens <- as.list(strsplit(x,\",\")[[1]]) %>% unique()\n",
    "gens.filter(gens[[1]]==' Dramas')\n"
   ]
  },
  {
   "cell_type": "code",
   "execution_count": null,
   "metadata": {},
   "outputs": [],
   "source": []
  }
 ],
 "metadata": {
  "kernelspec": {
   "display_name": "R",
   "language": "R",
   "name": "ir"
  },
  "language_info": {
   "codemirror_mode": "r",
   "file_extension": ".r",
   "mimetype": "text/x-r-source",
   "name": "R",
   "pygments_lexer": "r",
   "version": "4.0.2"
  }
 },
 "nbformat": 4,
 "nbformat_minor": 4
}
