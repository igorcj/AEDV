{
 "cells": [
  {
   "cell_type": "code",
   "execution_count": 1,
   "id": "descending-pension",
   "metadata": {},
   "outputs": [
    {
     "name": "stderr",
     "output_type": "stream",
     "text": [
      "Warning message:\n",
      "\"package 'WVPlots' was built under R version 3.6.3\"\n",
      "Loading required package: wrapr\n",
      "\n",
      "Warning message:\n",
      "\"package 'dplyr' was built under R version 3.6.3\"\n",
      "\n",
      "Attaching package: 'dplyr'\n",
      "\n",
      "\n",
      "The following object is masked from 'package:wrapr':\n",
      "\n",
      "    coalesce\n",
      "\n",
      "\n",
      "The following objects are masked from 'package:stats':\n",
      "\n",
      "    filter, lag\n",
      "\n",
      "\n",
      "The following objects are masked from 'package:base':\n",
      "\n",
      "    intersect, setdiff, setequal, union\n",
      "\n",
      "\n"
     ]
    }
   ],
   "source": [
    "library(readr)\n",
    "library(WVPlots)\n",
    "library(dplyr)\n",
    "library(ggplot2)\n",
    "library(tidyr)\n",
    "library(stringr)"
   ]
  },
  {
   "cell_type": "code",
   "execution_count": 2,
   "id": "aggressive-liberia",
   "metadata": {},
   "outputs": [
    {
     "name": "stderr",
     "output_type": "stream",
     "text": [
      "Warning message:\n",
      "\"Missing column names filled in: 'X1' [1]\"\n",
      "Parsed with column specification:\n",
      "cols(\n",
      "  X1 = \u001b[32mcol_double()\u001b[39m,\n",
      "  Title = \u001b[31mcol_character()\u001b[39m,\n",
      "  Year = \u001b[32mcol_double()\u001b[39m,\n",
      "  Age = \u001b[31mcol_character()\u001b[39m,\n",
      "  IMDb = \u001b[32mcol_double()\u001b[39m,\n",
      "  Rotten_Tomatoes = \u001b[32mcol_double()\u001b[39m,\n",
      "  Streamings = \u001b[31mcol_character()\u001b[39m,\n",
      "  Genre = \u001b[31mcol_character()\u001b[39m\n",
      ")\n",
      "\n"
     ]
    },
    {
     "name": "stdout",
     "output_type": "stream",
     "text": [
      "Rows: 462\n",
      "Columns: 8\n",
      "$ X1              \u001b[3m\u001b[90m<dbl>\u001b[39m\u001b[23m 0, 1, 2, 3, 4, 5, 6, 8, 9, 10, 11, 12, 13, 14, 15, 16,~\n",
      "$ Title           \u001b[3m\u001b[90m<chr>\u001b[39m\u001b[23m \"breaking bad\", \"stranger things\", \"sherlock\", \"better~\n",
      "$ Year            \u001b[3m\u001b[90m<dbl>\u001b[39m\u001b[23m 2008, 2016, 2010, 2015, 2005, 2011, 2005, 2013, 2005, ~\n",
      "$ Age             \u001b[3m\u001b[90m<chr>\u001b[39m\u001b[23m \"18+\", \"16+\", \"16+\", \"18+\", \"16+\", \"18+\", \"16+\", \"18+\"~\n",
      "$ IMDb            \u001b[3m\u001b[90m<dbl>\u001b[39m\u001b[23m 9.5, 8.8, 9.1, 8.7, 8.9, 8.8, 8.4, 8.8, 9.2, 8.2, 8.7,~\n",
      "$ Rotten_Tomatoes \u001b[3m\u001b[90m<dbl>\u001b[39m\u001b[23m 9.6, 9.3, 7.8, 9.7, 8.1, 8.3, 9.3, 9.2, 10.0, 8.1, 9.4~\n",
      "$ Streamings      \u001b[3m\u001b[90m<chr>\u001b[39m\u001b[23m \"Netflix\", \"Netflix\", \"Netflix\", \"Netflix\", \"Netflix\",~\n",
      "$ Genre           \u001b[3m\u001b[90m<chr>\u001b[39m\u001b[23m \"crime,drama,thriller\", \"horror,mystery,scifi,fantasy\"~\n"
     ]
    }
   ],
   "source": [
    "shows <- read_csv('shows.csv') %>% mutate(Rotten_Tomatoes = Rotten_Tomatoes/10)\n",
    "glimpse(shows)"
   ]
  },
  {
   "cell_type": "code",
   "execution_count": 3,
   "id": "still-party",
   "metadata": {},
   "outputs": [
    {
     "data": {
      "text/html": [
       "<table class=\"dataframe\">\n",
       "<caption>A tibble: 6 × 4</caption>\n",
       "<thead>\n",
       "\t<tr><th scope=col>IMDb</th><th scope=col>Rotten_Tomatoes</th><th scope=col>Contagem</th><th scope=col>Resultado</th></tr>\n",
       "\t<tr><th scope=col>&lt;dbl&gt;</th><th scope=col>&lt;dbl&gt;</th><th scope=col>&lt;dbl&gt;</th><th scope=col>&lt;fct&gt;</th></tr>\n",
       "</thead>\n",
       "<tbody>\n",
       "\t<tr><td>9.5</td><td> 9.6</td><td>1</td><td>Agradou a todos</td></tr>\n",
       "\t<tr><td>9.3</td><td> 9.3</td><td>1</td><td>Agradou a todos</td></tr>\n",
       "\t<tr><td>9.2</td><td>10.0</td><td>1</td><td>Agradou a todos</td></tr>\n",
       "\t<tr><td>9.1</td><td> 7.8</td><td>1</td><td>Agradou a todos</td></tr>\n",
       "\t<tr><td>9.1</td><td>10.0</td><td>2</td><td>Agradou a todos</td></tr>\n",
       "\t<tr><td>8.9</td><td> 8.1</td><td>1</td><td>Agradou a todos</td></tr>\n",
       "</tbody>\n",
       "</table>\n"
      ],
      "text/latex": [
       "A tibble: 6 × 4\n",
       "\\begin{tabular}{llll}\n",
       " IMDb & Rotten\\_Tomatoes & Contagem & Resultado\\\\\n",
       " <dbl> & <dbl> & <dbl> & <fct>\\\\\n",
       "\\hline\n",
       "\t 9.5 &  9.6 & 1 & Agradou a todos\\\\\n",
       "\t 9.3 &  9.3 & 1 & Agradou a todos\\\\\n",
       "\t 9.2 & 10.0 & 1 & Agradou a todos\\\\\n",
       "\t 9.1 &  7.8 & 1 & Agradou a todos\\\\\n",
       "\t 9.1 & 10.0 & 2 & Agradou a todos\\\\\n",
       "\t 8.9 &  8.1 & 1 & Agradou a todos\\\\\n",
       "\\end{tabular}\n"
      ],
      "text/markdown": [
       "\n",
       "A tibble: 6 × 4\n",
       "\n",
       "| IMDb &lt;dbl&gt; | Rotten_Tomatoes &lt;dbl&gt; | Contagem &lt;dbl&gt; | Resultado &lt;fct&gt; |\n",
       "|---|---|---|---|\n",
       "| 9.5 |  9.6 | 1 | Agradou a todos |\n",
       "| 9.3 |  9.3 | 1 | Agradou a todos |\n",
       "| 9.2 | 10.0 | 1 | Agradou a todos |\n",
       "| 9.1 |  7.8 | 1 | Agradou a todos |\n",
       "| 9.1 | 10.0 | 2 | Agradou a todos |\n",
       "| 8.9 |  8.1 | 1 | Agradou a todos |\n",
       "\n"
      ],
      "text/plain": [
       "  IMDb Rotten_Tomatoes Contagem Resultado      \n",
       "1 9.5   9.6            1        Agradou a todos\n",
       "2 9.3   9.3            1        Agradou a todos\n",
       "3 9.2  10.0            1        Agradou a todos\n",
       "4 9.1   7.8            1        Agradou a todos\n",
       "5 9.1  10.0            2        Agradou a todos\n",
       "6 8.9   8.1            1        Agradou a todos"
      ]
     },
     "metadata": {},
     "output_type": "display_data"
    }
   ],
   "source": [
    "data <- shows %>% select(IMDb, Rotten_Tomatoes) %>% \n",
    "                  within(Contagem <- ave(IMDb,\n",
    "                                         list(IMDb, Rotten_Tomatoes),\n",
    "                                         FUN = length)) %>% \n",
    "                  unique() %>% \n",
    "                  arrange(-IMDb) %>% \n",
    "                  mutate(Resultado = ifelse(IMDb > 6 & Rotten_Tomatoes > 6,\n",
    "                                            'Agradou a todos',\n",
    "                                            ifelse(IMDb > 6,\n",
    "                                                   'Agradou a critica',\n",
    "                                                   ifelse(Rotten_Tomatoes > 6,\n",
    "                                                          'Agradou o público',\n",
    "                                                          'Fracassou')))) %>% \n",
    "                  mutate(Resultado = factor(as.character(Resultado),\n",
    "                                            levels = c('Agradou a todos',\n",
    "                                                       'Agradou a critica',\n",
    "                                                       'Agradou o público',\n",
    "                                                       'Fracassou')))\n",
    "\n",
    "head(data)"
   ]
  },
  {
   "cell_type": "code",
   "execution_count": 4,
   "id": "stretch-delivery",
   "metadata": {
    "scrolled": false
   },
   "outputs": [
    {
     "data": {
      "image/png": "[encoded data removed]",
      "text/plain": [
       "plot without title"
      ]
     },
     "metadata": {
      "image/png": {
       "height": 420,
       "width": 420
      }
     },
     "output_type": "display_data"
    }
   ],
   "source": [
    "ScatterHist(shows,\n",
    "            'IMDb',\n",
    "            'Rotten_Tomatoes',\n",
    "            smoothmethod = 'none', \n",
    "            title = 'Example Relation Plot',\n",
    "            estimate_sig = TRUE)"
   ]
  },
  {
   "cell_type": "code",
   "execution_count": 5,
   "id": "freelance-retail",
   "metadata": {},
   "outputs": [
    {
     "data": {
      "image/png": "[encoded data removed]",
      "text/plain": [
       "plot without title"
      ]
     },
     "metadata": {
      "image/png": {
       "height": 420,
       "width": 420
      }
     },
     "output_type": "display_data"
    }
   ],
   "source": [
    "colors <- rev(RColorBrewer::brewer.pal(n = 4,\n",
    "                                       name = 'Blues'))\n",
    "\n",
    "data %>% ggplot(aes(x = IMDb, y = Rotten_Tomatoes, size = Contagem, color = Resultado)) +\n",
    "labs(x = 'IMDb', y = 'Rotten Tomatoes', title = 'Nota IMDb x Rotten Tomatoes') + \n",
    "scale_fill_manual(values = colors) +\n",
    "geom_point()"
   ]
  },
  {
   "cell_type": "code",
   "execution_count": 6,
   "id": "industrial-camping",
   "metadata": {},
   "outputs": [
    {
     "data": {
      "image/png": "[encoded data removed]",
      "text/plain": [
       "plot without title"
      ]
     },
     "metadata": {
      "image/png": {
       "height": 420,
       "width": 420
      }
     },
     "output_type": "display_data"
    }
   ],
   "source": [
    "colors <- rev(RColorBrewer::brewer.pal(n = 4,\n",
    "                                       name = 'Blues'))\n",
    "\n",
    "heatmap <- ggplot(data, aes(x = IMDb, y = Rotten_Tomatoes, fill = Resultado)) +\n",
    "           geom_tile(colour = 'white', size = 0.2) +\n",
    "           labs(x = 'IMDb', y = 'Rotten Tomatoes') +\n",
    "           scale_fill_manual(values = colors)\n",
    "\n",
    "heatmap"
   ]
  },
  {
   "cell_type": "code",
   "execution_count": null,
   "id": "radical-archives",
   "metadata": {},
   "outputs": [],
   "source": []
  },
  {
   "cell_type": "code",
   "execution_count": 7,
   "id": "engaged-logic",
   "metadata": {},
   "outputs": [
    {
     "name": "stderr",
     "output_type": "stream",
     "text": [
      "Warning message:\n",
      "\"package 'ggExtra' was built under R version 3.6.3\"\n"
     ]
    },
    {
     "ename": "ERROR",
     "evalue": "Error: package or namespace load failed for 'ggExtra' in loadNamespace(i, c(lib.loc, .libPaths()), versionCheck = vI[[i]]):\n namespace 'htmltools' 0.3.6 is already loaded, but >= 0.5.0.9001 is required\n",
     "output_type": "error",
     "traceback": [
      "Error: package or namespace load failed for 'ggExtra' in loadNamespace(i, c(lib.loc, .libPaths()), versionCheck = vI[[i]]):\n namespace 'htmltools' 0.3.6 is already loaded, but >= 0.5.0.9001 is required\nTraceback:\n",
      "1. library(ggExtra)",
      "2. tryCatch({\n .     attr(package, \"LibPath\") <- which.lib.loc\n .     ns <- loadNamespace(package, lib.loc)\n .     env <- attachNamespace(ns, pos = pos, deps, exclude, include.only)\n . }, error = function(e) {\n .     P <- if (!is.null(cc <- conditionCall(e))) \n .         paste(\" in\", deparse(cc)[1L])\n .     else \"\"\n .     msg <- gettextf(\"package or namespace load failed for %s%s:\\n %s\", \n .         sQuote(package), P, conditionMessage(e))\n .     if (logical.return) \n .         message(paste(\"Error:\", msg), domain = NA)\n .     else stop(msg, call. = FALSE, domain = NA)\n . })",
      "3. tryCatchList(expr, classes, parentenv, handlers)",
      "4. tryCatchOne(expr, names, parentenv, handlers[[1L]])",
      "5. value[[3L]](cond)",
      "6. stop(msg, call. = FALSE, domain = NA)"
     ]
    }
   ],
   "source": [
    "# library\n",
    "library(ggplot2)\n",
    "library(ggExtra)\n",
    " \n",
    "# The mtcars dataset is proposed in R\n",
    "head(mtcars)\n",
    " \n",
    "# classic plot :\n",
    "p <- ggplot(mtcars, aes(x=wt, y=mpg, color=cyl, size=cyl)) +\n",
    "      geom_point() +\n",
    "      theme(legend.position=\"none\")\n",
    " \n",
    "# with marginal histogram\n",
    "p1 <- ggMarginal(p, type=\"histogram\")\n",
    " \n",
    "# marginal density\n",
    "p2 <- ggMarginal(p, type=\"density\")\n",
    " \n",
    "# marginal boxplot\n",
    "p3 <- ggMarginal(p, type=\"boxplot\")"
   ]
  }
 ],
 "metadata": {
  "kernelspec": {
   "display_name": "R",
   "language": "R",
   "name": "ir"
  },
  "language_info": {
   "codemirror_mode": "r",
   "file_extension": ".r",
   "mimetype": "text/x-r-source",
   "name": "R",
   "pygments_lexer": "r",
   "version": "3.6.1"
  }
 },
 "nbformat": 4,
 "nbformat_minor": 5
}
