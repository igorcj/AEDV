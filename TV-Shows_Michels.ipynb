{
 "cells": [
  {
   "cell_type": "markdown",
   "metadata": {},
   "source": [
    "# Trabalho de AEDV (A1)\n",
    "   \n",
    "#### Dupla dinâmica: $(igor)^2 = -(gor)^2$\n",
    "    Igor Cortes Junqueira\n",
    "    Igor Patricio Michels"
   ]
  },
  {
   "cell_type": "markdown",
   "metadata": {},
   "source": [
    "## Escolha da base de dados"
   ]
  },
  {
   "cell_type": "markdown",
   "metadata": {},
   "source": [
    "O primeiro passo do trabalho foi a escolha da base de dados. Para tanto optamos por otimizar o tempo fazendo a escolha de uma base que pode nos porporcionar a escolha da próxima série a ser assistida. Dessa forma, escolhemos uma base do Kaggle com séries em diversas plataformas, a qual pode ser encontrada [aqui](https://www.kaggle.com/ruchi798/tv-shows-on-netflix-prime-video-hulu-and-disney).\n",
    "\n",
    "Um problema dessa base é que ela não é muito informativa, isto é, uma das informações que consideramos de maior relevância, o gênero da série, não está presente nessa base. Dessa forma, buscamos novas bases de dados no Kaggle, uma da [Netflix](https://www.kaggle.com/shivamb/netflix-shows), uma da [Amazon Prime](https://www.kaggle.com/nilimajauhari/amazon-prime-tv-shows) e uma da [Disney Plus](https://www.kaggle.com/unanimad/disney-plus-shows), as quais possuem a indicação do gênero.\n",
    "\n",
    "Para utilizar as 4 bases descritas, realizamos um merge entre elas a partir do título, incluindo o gênero da série na nossa base. As demais informações presentes nas últimas 3 bases foram descartadas, uma vez que nem todas tinham aquela informação. Da base original descartamos todos os títulos que estavam presentes apenas na plataforma Hulu, uma vez que esta plataforma não está disponível no Brasil."
   ]
  },
  {
   "cell_type": "markdown",
   "metadata": {},
   "source": [
    "Abaixo temos a preparação do ambiente, com a importação das bibliotecas utilizadas, bem como a importação das bancos de dados."
   ]
  },
  {
   "cell_type": "markdown",
   "metadata": {},
   "source": [
    "## Importação e limpeza dos dados"
   ]
  },
  {
   "cell_type": "code",
   "execution_count": 1,
   "metadata": {},
   "outputs": [
    {
     "name": "stderr",
     "output_type": "stream",
     "text": [
      "Warning message:\n",
      "\"package 'rlist' was built under R version 3.6.3\"Warning message:\n",
      "\"package 'dplyr' was built under R version 3.6.3\"\n",
      "Attaching package: 'dplyr'\n",
      "\n",
      "The following objects are masked from 'package:stats':\n",
      "\n",
      "    filter, lag\n",
      "\n",
      "The following objects are masked from 'package:base':\n",
      "\n",
      "    intersect, setdiff, setequal, union\n",
      "\n",
      "Warning message:\n",
      "\"package 'ggplot2' was built under R version 3.6.3\"Parsed with column specification:\n",
      "cols(\n",
      "  ID = col_character(),\n",
      "  Title = col_character(),\n",
      "  Year = col_double(),\n",
      "  Age = col_character(),\n",
      "  IMDb = col_double(),\n",
      "  Rotten_Tomatoes = col_character(),\n",
      "  Netflix = col_double(),\n",
      "  Hulu = col_double(),\n",
      "  Prime_Video = col_double(),\n",
      "  DisneyPlus = col_double(),\n",
      "  type = col_double()\n",
      ")\n",
      "Warning message:\n",
      "\"85 parsing failures.\n",
      "row col   expected    actual           file\n",
      " 63  -- 11 columns 1 columns 'tv_shows.csv'\n",
      " 69  -- 11 columns 1 columns 'tv_shows.csv'\n",
      "423  -- 11 columns 1 columns 'tv_shows.csv'\n",
      "453  -- 11 columns 1 columns 'tv_shows.csv'\n",
      "528  -- 11 columns 1 columns 'tv_shows.csv'\n",
      "... ... .......... ......... ..............\n",
      "See problems(...) for more details.\n",
      "\"Parsed with column specification:\n",
      "cols(\n",
      "  imdb_id = col_character(),\n",
      "  title = col_character(),\n",
      "  plot = col_character(),\n",
      "  type = col_character(),\n",
      "  rated = col_character(),\n",
      "  year = col_character(),\n",
      "  released_at = col_character(),\n",
      "  added_at = col_character(),\n",
      "  runtime = col_character(),\n",
      "  genre = col_character(),\n",
      "  director = col_character(),\n",
      "  writer = col_character(),\n",
      "  actors = col_character(),\n",
      "  language = col_character(),\n",
      "  country = col_character(),\n",
      "  awards = col_character(),\n",
      "  metascore = col_character(),\n",
      "  imdb_rating = col_character(),\n",
      "  imdb_votes = col_character()\n",
      ")\n",
      "Parsed with column specification:\n",
      "cols(\n",
      "  show_id = col_character(),\n",
      "  type = col_character(),\n",
      "  title = col_character(),\n",
      "  director = col_character(),\n",
      "  cast = col_character(),\n",
      "  country = col_character(),\n",
      "  date_added = col_character(),\n",
      "  release_year = col_double(),\n",
      "  rating = col_character(),\n",
      "  duration = col_character(),\n",
      "  listed_in = col_character(),\n",
      "  description = col_character()\n",
      ")\n",
      "Parsed with column specification:\n",
      "cols(\n",
      "  ID = col_double(),\n",
      "  Title = col_character(),\n",
      "  Release_Year = col_double(),\n",
      "  Seasons_Avaliable = col_double(),\n",
      "  Language = col_character(),\n",
      "  Genre = col_character(),\n",
      "  IMDb = col_double(),\n",
      "  Age = col_character()\n",
      ")\n"
     ]
    }
   ],
   "source": [
    "library(readr)\n",
    "library(stringr)\n",
    "library(rlist)\n",
    "library(dplyr)\n",
    "library(ggplot2)\n",
    "shows <- read_csv(\"tv_shows.csv\")\n",
    "disney <- read_csv(\"disney_plus_shows.csv\")\n",
    "netflix <- read_csv(\"netflix_titles.csv\")\n",
    "prime <- read_csv(\"Prime TV Shows Data set.csv\")"
   ]
  },
  {
   "cell_type": "markdown",
   "metadata": {},
   "source": [
    "Feito isso, iremos compor a base do trabalho, isto é, fazer o merge dos bancos utilizados, bem como a exclusão das séries exclusivas da Hulu."
   ]
  },
  {
   "cell_type": "code",
   "execution_count": 2,
   "metadata": {
    "scrolled": true
   },
   "outputs": [
    {
     "name": "stdout",
     "output_type": "stream",
     "text": [
      "Rows: 4,143\n",
      "Columns: 7\n",
      "$ Title           <chr> \"Breaking Bad\", \"Stranger Things\", \"Money Heist\", \"She~\n",
      "$ Year            <dbl> 2008, 2016, 2017, 2010, 2015, 2005, 2011, 2005, 2005, ~\n",
      "$ Age             <chr> \"18+\", \"16+\", \"18+\", \"16+\", \"18+\", \"16+\", \"18+\", \"16+\"~\n",
      "$ IMDb            <dbl> 9.5, 8.8, 8.4, 9.1, 8.7, 8.9, 8.8, 8.4, 8.4, 8.8, 9.2,~\n",
      "$ Rotten_Tomatoes <dbl> 96, 93, 91, 78, 97, 81, 83, 93, 93, 92, 100, 81, 94, 8~\n",
      "$ Streamings      <chr> \"Netflix\", \"Netflix\", \"Netflix\", \"Netflix\", \"Netflix\",~\n",
      "$ Genre           <chr> \"Crime TV Shows, TV Dramas, TV Thrillers\", \"TV Horror,~\n"
     ]
    }
   ],
   "source": [
    "# Limpando o databse conjunto para os dados relevantes\n",
    "\n",
    "cshows <- shows %>% mutate(Streamings = paste(sep = \" \", ifelse(Netflix == 1, \"Netflix\", \"\"),\n",
    "                                                         ifelse(Prime_Video == 1, \"Prime\", \"\"),\n",
    "                                                         ifelse(DisneyPlus == 1, \"Disney\", \"\")) %>%\n",
    "                                        trimws() %>%\n",
    "                                        str_replace(\" \",\", \")) %>%\n",
    "                                        select(-Netflix, -Hulu, -Prime_Video, -DisneyPlus, -type, -ID)\n",
    "\n",
    "cshows <- subset(cshows, Streamings != \"NA, NA NA\" & Streamings != \"\")\n",
    "cshows <- cshows %>% mutate(Rotten_Tomatoes = as.numeric(sub(\"%\", \"\", Rotten_Tomatoes)))\n",
    "\n",
    "# Importanto Genero dos demais databases\n",
    "\n",
    "t1 <- netflix %>% mutate(Title = title, Genre = listed_in) %>% select(Title, Genre) \n",
    "t2 <- prime %>% mutate(Title = ) %>% select(Title, Genre)\n",
    "t3 <- disney %>% mutate(Title = title, Genre = genre) %>% select(Title, Genre)\n",
    "gb <- c(\"Title\", \"Genre\")\n",
    "t <- full_join(t1, full_join(t2, t3, by = gb), by = gb)\n",
    "\n",
    "cshows <- left_join(cshows, t, by = 'Title')\n",
    "glimpse(cshows)"
   ]
  },
  {
   "cell_type": "markdown",
   "metadata": {},
   "source": [
    "Como utilizamos 3 bases distintas para incluir o gênero da série, é natural que o gênero esteja totalmente despadronizado, dessa forma estamos criando uma lista de gêneros para facilitar nossas queries."
   ]
  },
  {
   "cell_type": "code",
   "execution_count": 3,
   "metadata": {},
   "outputs": [
    {
     "data": {
      "text/html": [
       "<ol class=list-inline>\n",
       "\t<li>'Crime'</li>\n",
       "\t<li>'Drama'</li>\n",
       "\t<li>'Thriller'</li>\n",
       "\t<li>'Horror'</li>\n",
       "\t<li>'Mystery'</li>\n",
       "\t<li>'Sci-fi'</li>\n",
       "\t<li>'Fantasy'</li>\n",
       "\t<li>'NA'</li>\n",
       "\t<li>'British'</li>\n",
       "\t<li>'International'</li>\n",
       "\t<li>'Comedy'</li>\n",
       "\t<li>'Classic'</li>\n",
       "\t<li>'Cult'</li>\n",
       "\t<li>'Action'</li>\n",
       "\t<li>'Adventure'</li>\n",
       "\t<li>'Suspense'</li>\n",
       "\t<li>'Anime'</li>\n",
       "\t<li>'Romance'</li>\n",
       "\t<li>'Spanish-Language'</li>\n",
       "\t<li>'Teen'</li>\n",
       "\t<li>'Docuseries'</li>\n",
       "\t<li>'Science'</li>\n",
       "\t<li>'Nature'</li>\n",
       "\t<li>'Reality'</li>\n",
       "\t<li>'Documentary'</li>\n",
       "\t<li>'Sports'</li>\n",
       "\t<li>'Korean'</li>\n",
       "\t<li>'Animation'</li>\n",
       "\t<li>'Family'</li>\n",
       "\t<li>'Musical'</li>\n",
       "\t<li>'Independent'</li>\n",
       "\t<li>'Stand-Up Comedy'</li>\n",
       "\t<li>'Talk'</li>\n",
       "\t<li>'Reality-Show'</li>\n",
       "\t<li>'Game-Show'</li>\n",
       "\t<li>'Kids'</li>\n",
       "\t<li>'Children'</li>\n",
       "\t<li>'Short'</li>\n",
       "\t<li>'Music'</li>\n",
       "\t<li>'Western'</li>\n",
       "\t<li>'LGBTQ'</li>\n",
       "\t<li>'Arts'</li>\n",
       "\t<li>'Entertainment'</li>\n",
       "\t<li>'Culture'</li>\n",
       "</ol>\n"
      ],
      "text/latex": [
       "\\begin{enumerate*}\n",
       "\\item 'Crime'\n",
       "\\item 'Drama'\n",
       "\\item 'Thriller'\n",
       "\\item 'Horror'\n",
       "\\item 'Mystery'\n",
       "\\item 'Sci-fi'\n",
       "\\item 'Fantasy'\n",
       "\\item 'NA'\n",
       "\\item 'British'\n",
       "\\item 'International'\n",
       "\\item 'Comedy'\n",
       "\\item 'Classic'\n",
       "\\item 'Cult'\n",
       "\\item 'Action'\n",
       "\\item 'Adventure'\n",
       "\\item 'Suspense'\n",
       "\\item 'Anime'\n",
       "\\item 'Romance'\n",
       "\\item 'Spanish-Language'\n",
       "\\item 'Teen'\n",
       "\\item 'Docuseries'\n",
       "\\item 'Science'\n",
       "\\item 'Nature'\n",
       "\\item 'Reality'\n",
       "\\item 'Documentary'\n",
       "\\item 'Sports'\n",
       "\\item 'Korean'\n",
       "\\item 'Animation'\n",
       "\\item 'Family'\n",
       "\\item 'Musical'\n",
       "\\item 'Independent'\n",
       "\\item 'Stand-Up Comedy'\n",
       "\\item 'Talk'\n",
       "\\item 'Reality-Show'\n",
       "\\item 'Game-Show'\n",
       "\\item 'Kids'\n",
       "\\item 'Children'\n",
       "\\item 'Short'\n",
       "\\item 'Music'\n",
       "\\item 'Western'\n",
       "\\item 'LGBTQ'\n",
       "\\item 'Arts'\n",
       "\\item 'Entertainment'\n",
       "\\item 'Culture'\n",
       "\\end{enumerate*}\n"
      ],
      "text/markdown": [
       "1. 'Crime'\n",
       "2. 'Drama'\n",
       "3. 'Thriller'\n",
       "4. 'Horror'\n",
       "5. 'Mystery'\n",
       "6. 'Sci-fi'\n",
       "7. 'Fantasy'\n",
       "8. 'NA'\n",
       "9. 'British'\n",
       "10. 'International'\n",
       "11. 'Comedy'\n",
       "12. 'Classic'\n",
       "13. 'Cult'\n",
       "14. 'Action'\n",
       "15. 'Adventure'\n",
       "16. 'Suspense'\n",
       "17. 'Anime'\n",
       "18. 'Romance'\n",
       "19. 'Spanish-Language'\n",
       "20. 'Teen'\n",
       "21. 'Docuseries'\n",
       "22. 'Science'\n",
       "23. 'Nature'\n",
       "24. 'Reality'\n",
       "25. 'Documentary'\n",
       "26. 'Sports'\n",
       "27. 'Korean'\n",
       "28. 'Animation'\n",
       "29. 'Family'\n",
       "30. 'Musical'\n",
       "31. 'Independent'\n",
       "32. 'Stand-Up Comedy'\n",
       "33. 'Talk'\n",
       "34. 'Reality-Show'\n",
       "35. 'Game-Show'\n",
       "36. 'Kids'\n",
       "37. 'Children'\n",
       "38. 'Short'\n",
       "39. 'Music'\n",
       "40. 'Western'\n",
       "41. 'LGBTQ'\n",
       "42. 'Arts'\n",
       "43. 'Entertainment'\n",
       "44. 'Culture'\n",
       "\n",
       "\n"
      ],
      "text/plain": [
       " [1] \"Crime\"            \"Drama\"            \"Thriller\"         \"Horror\"          \n",
       " [5] \"Mystery\"          \"Sci-fi\"           \"Fantasy\"          \"NA\"              \n",
       " [9] \"British\"          \"International\"    \"Comedy\"           \"Classic\"         \n",
       "[13] \"Cult\"             \"Action\"           \"Adventure\"        \"Suspense\"        \n",
       "[17] \"Anime\"            \"Romance\"          \"Spanish-Language\" \"Teen\"            \n",
       "[21] \"Docuseries\"       \"Science\"          \"Nature\"           \"Reality\"         \n",
       "[25] \"Documentary\"      \"Sports\"           \"Korean\"           \"Animation\"       \n",
       "[29] \"Family\"           \"Musical\"          \"Independent\"      \"Stand-Up Comedy\" \n",
       "[33] \"Talk\"             \"Reality-Show\"     \"Game-Show\"        \"Kids\"            \n",
       "[37] \"Children\"         \"Short\"            \"Music\"            \"Western\"         \n",
       "[41] \"LGBTQ\"            \"Arts\"             \"Entertainment\"    \"Culture\"         "
      ]
     },
     "metadata": {},
     "output_type": "display_data"
    }
   ],
   "source": [
    "x <- \"\"\n",
    "for(g in cshows[,'Genre'][[1]]){\n",
    "    c <- str_replace_all(g,\"TV\",\"\") %>%\n",
    "         str_replace_all(\"Reality-\", \"Reality-Show\") %>%\n",
    "         str_replace_all(\"Sci-Fi\", \"Sci-fi\") %>%\n",
    "         str_replace_all(\"Sci-fi comedy\", \"\") %>%\n",
    "         str_replace_all(\" &\", \",\") %>%\n",
    "         str_replace_all(\"Movies\", \"\") %>%\n",
    "         str_replace_all(\"Shows\", \"\") %>%\n",
    "         str_replace_all(\"/\", \"\") %>%\n",
    "         str_replace_all(\"Mysteries\", \"Mystery\") %>%\n",
    "         str_replace_all(\"Comedies\", \"Comedy\") %>%\n",
    "         str_replace_all(\"Documentaries\", \"Documentary\") %>%\n",
    "         str_replace_all(\"Dramas\", \"Drama\") %>%\n",
    "         str_replace_all(\"Musicals\", \"Musical\") %>%\n",
    "         str_replace_all(\"Thrillers\", \"Thriller\") %>%\n",
    "         str_replace_all(\"Talk-Show\", \"\") %>%\n",
    "         str_replace_all(\"Romantic\", \"Romance\") %>%\n",
    "         str_replace_all(\"Anime Series\", \"Anime\") %>%\n",
    "         str_replace_all(\"Kids\\'\", \"\") %>%\n",
    "         str_replace_all(\"Kids\\'\", \"\")\n",
    "\n",
    "    x <- paste(x, trimws(c), sep = \",\")\n",
    "}\n",
    "\n",
    "gens <- strsplit(x, \",\")[[1]] %>%\n",
    "        trimws() %>%\n",
    "        unique()\n",
    "\n",
    "gens <- gens[gens != \"\"]\n",
    "gens"
   ]
  },
  {
   "cell_type": "markdown",
   "metadata": {},
   "source": [
    "## Análise Exploratória"
   ]
  },
  {
   "cell_type": "code",
   "execution_count": 21,
   "metadata": {},
   "outputs": [],
   "source": [
    "varpop <- function(x){\n",
    "  n <- length(x)\n",
    "  var(x)*(n-1)/n\n",
    "}"
   ]
  },
  {
   "cell_type": "code",
   "execution_count": 4,
   "metadata": {},
   "outputs": [
    {
     "data": {
      "text/plain": [
       "\n",
       "          Disney          Netflix Netflix,  Disney   Netflix, Prime \n",
       "             186             1832                8               93 \n",
       "           Prime \n",
       "            2024 "
      ]
     },
     "metadata": {},
     "output_type": "display_data"
    }
   ],
   "source": [
    "plataforma <- table(cshows$Streamings)\n",
    "plataforma"
   ]
  },
  {
   "cell_type": "code",
   "execution_count": 5,
   "metadata": {
    "scrolled": false
   },
   "outputs": [
    {
     "data": {
      "image/png": "[encoded data removed]",
      "text/plain": [
       "plot without title"
      ]
     },
     "metadata": {},
     "output_type": "display_data"
    }
   ],
   "source": [
    "barplot(sort(plataforma))"
   ]
  },
  {
   "cell_type": "code",
   "execution_count": 6,
   "metadata": {},
   "outputs": [
    {
     "data": {
      "text/plain": [
       "\n",
       "          Disney          Netflix Netflix,  Disney   Netflix, Prime \n",
       "     0.044895004      0.442191649      0.001930968      0.022447502 \n",
       "           Prime \n",
       "     0.488534878 "
      ]
     },
     "metadata": {},
     "output_type": "display_data"
    }
   ],
   "source": [
    "plataforma <- prop.table(plataforma)\n",
    "plataforma"
   ]
  },
  {
   "cell_type": "code",
   "execution_count": 7,
   "metadata": {},
   "outputs": [
    {
     "data": {
      "image/png": "[encoded data removed]",
      "text/plain": [
       "plot without title"
      ]
     },
     "metadata": {},
     "output_type": "display_data"
    }
   ],
   "source": [
    "barplot(sort(plataforma))"
   ]
  },
  {
   "cell_type": "markdown",
   "metadata": {},
   "source": [
    "Note que mais que 50% das séries disponíveis se encontram no Amazon Prime (48.85% da Amazon Prime e 2.24% que estão na Netflix e na Amazon Prime). Outro fato interessante é que o Disney Plus tem menos que 5% das séries e, além disso, nenhuma série se encontra no Disney Plus e na Amazon Prime simultaneamente."
   ]
  },
  {
   "cell_type": "markdown",
   "metadata": {},
   "source": [
    "Um outro dado de nosso interesse é a avaliação da crítica, dessa forma, analisando as notas, quanto ao IMDb, temos."
   ]
  },
  {
   "cell_type": "code",
   "execution_count": 8,
   "metadata": {},
   "outputs": [
    {
     "data": {
      "text/html": [
       "<dl class=dl-horizontal>\n",
       "\t<dt>0%</dt>\n",
       "\t\t<dd>1</dd>\n",
       "\t<dt>25%</dt>\n",
       "\t\t<dd>6.6</dd>\n",
       "\t<dt>50%</dt>\n",
       "\t\t<dd>7.4</dd>\n",
       "\t<dt>75%</dt>\n",
       "\t\t<dd>8</dd>\n",
       "\t<dt>100%</dt>\n",
       "\t\t<dd>9.5</dd>\n",
       "</dl>\n"
      ],
      "text/latex": [
       "\\begin{description*}\n",
       "\\item[0\\textbackslash{}\\%] 1\n",
       "\\item[25\\textbackslash{}\\%] 6.6\n",
       "\\item[50\\textbackslash{}\\%] 7.4\n",
       "\\item[75\\textbackslash{}\\%] 8\n",
       "\\item[100\\textbackslash{}\\%] 9.5\n",
       "\\end{description*}\n"
      ],
      "text/markdown": [
       "0%\n",
       ":   125%\n",
       ":   6.650%\n",
       ":   7.475%\n",
       ":   8100%\n",
       ":   9.5\n",
       "\n"
      ],
      "text/plain": [
       "  0%  25%  50%  75% 100% \n",
       " 1.0  6.6  7.4  8.0  9.5 "
      ]
     },
     "metadata": {},
     "output_type": "display_data"
    }
   ],
   "source": [
    "quantile(cshows[, \"IMDb\"], na.rm = TRUE)"
   ]
  },
  {
   "cell_type": "code",
   "execution_count": 9,
   "metadata": {},
   "outputs": [
    {
     "data": {
      "image/png": "[encoded data removed]",
      "text/plain": [
       "plot without title"
      ]
     },
     "metadata": {},
     "output_type": "display_data"
    }
   ],
   "source": [
    "stripchart(cshows[, \"IMDb\"], xlab = \"Nota IMDb\")"
   ]
  },
  {
   "cell_type": "code",
   "execution_count": 10,
   "metadata": {
    "scrolled": false
   },
   "outputs": [
    {
     "name": "stderr",
     "output_type": "stream",
     "text": [
      "Warning message:\n",
      "\"Removed 938 rows containing non-finite values (stat_boxplot).\""
     ]
    },
    {
     "data": {
      "image/png": "[encoded data removed]",
      "text/plain": [
       "plot without title"
      ]
     },
     "metadata": {},
     "output_type": "display_data"
    }
   ],
   "source": [
    "cshows %>% \n",
    "ggplot(aes(x = IMDb)) +\n",
    "geom_boxplot() +\n",
    "labs(x = \"Nota IMDb\")"
   ]
  },
  {
   "cell_type": "markdown",
   "metadata": {},
   "source": [
    "Já de acordo com o Rotten Tomatoes"
   ]
  },
  {
   "cell_type": "code",
   "execution_count": 61,
   "metadata": {},
   "outputs": [
    {
     "data": {
      "text/html": [
       "<dl class=dl-horizontal>\n",
       "\t<dt>0%</dt>\n",
       "\t\t<dd>6</dd>\n",
       "\t<dt>25%</dt>\n",
       "\t\t<dd>67</dd>\n",
       "\t<dt>50%</dt>\n",
       "\t\t<dd>84</dd>\n",
       "\t<dt>75%</dt>\n",
       "\t\t<dd>93</dd>\n",
       "\t<dt>100%</dt>\n",
       "\t\t<dd>100</dd>\n",
       "</dl>\n"
      ],
      "text/latex": [
       "\\begin{description*}\n",
       "\\item[0\\textbackslash{}\\%] 6\n",
       "\\item[25\\textbackslash{}\\%] 67\n",
       "\\item[50\\textbackslash{}\\%] 84\n",
       "\\item[75\\textbackslash{}\\%] 93\n",
       "\\item[100\\textbackslash{}\\%] 100\n",
       "\\end{description*}\n"
      ],
      "text/markdown": [
       "0%\n",
       ":   625%\n",
       ":   6750%\n",
       ":   8475%\n",
       ":   93100%\n",
       ":   100\n",
       "\n"
      ],
      "text/plain": [
       "  0%  25%  50%  75% 100% \n",
       "   6   67   84   93  100 "
      ]
     },
     "metadata": {},
     "output_type": "display_data"
    }
   ],
   "source": [
    "quantile(cshows[, \"Rotten_Tomatoes\"], na.rm = TRUE)"
   ]
  },
  {
   "cell_type": "code",
   "execution_count": 62,
   "metadata": {},
   "outputs": [
    {
     "data": {
      "image/png": "[encoded data removed]",
      "text/plain": [
       "plot without title"
      ]
     },
     "metadata": {},
     "output_type": "display_data"
    }
   ],
   "source": [
    "stripchart(cshows[, \"Rotten_Tomatoes\"], xlab = \"Nota Rotten Tomatoes (%)\")"
   ]
  },
  {
   "cell_type": "code",
   "execution_count": 63,
   "metadata": {},
   "outputs": [
    {
     "name": "stderr",
     "output_type": "stream",
     "text": [
      "Warning message:\n",
      "\"Removed 3435 rows containing non-finite values (stat_boxplot).\""
     ]
    },
    {
     "data": {
      "image/png": "[encoded data removed]",
      "text/plain": [
       "plot without title"
      ]
     },
     "metadata": {},
     "output_type": "display_data"
    }
   ],
   "source": [
    "cshows %>% \n",
    "ggplot(aes(x = Rotten_Tomatoes)) +\n",
    "geom_boxplot() +\n",
    "labs(x = \"Nota Rotten Tomatoes (%)\")"
   ]
  },
  {
   "cell_type": "markdown",
   "metadata": {},
   "source": [
    "Também é possível fazer algumas análises quanto as notas de acordo com a série, dando ênfase na plataforma de origem. Nos gráficos abaixo estão as melhores séries de 2020, por exemplo."
   ]
  },
  {
   "cell_type": "code",
   "execution_count": 68,
   "metadata": {},
   "outputs": [
    {
     "data": {
      "image/png": "[encoded data removed]",
      "text/plain": [
       "plot without title"
      ]
     },
     "metadata": {},
     "output_type": "display_data"
    }
   ],
   "source": [
    "# Melhores séries de 2020 pelo IMDb (nota > 8)\n",
    "cshows %>% filter(Year==2020, IMDb>8) %>% arrange(-IMDb) %>%\n",
    "    ggplot(aes(reorder(Title,IMDb),IMDb)) + geom_col(aes(fill=Streamings)) +\n",
    "    coord_flip(ylim=c(8,9.3)) + xlab(\"Séries de 2020\") + ylab(\"Nota IMDb\") +\n",
    "    geom_text(aes(label = IMDb), hjust = -.5)"
   ]
  },
  {
   "cell_type": "code",
   "execution_count": 69,
   "metadata": {},
   "outputs": [
    {
     "data": {
      "image/png": "[encoded data removed]",
      "text/plain": [
       "plot without title"
      ]
     },
     "metadata": {},
     "output_type": "display_data"
    }
   ],
   "source": [
    "# Melhores séries de 2020 pelo Rotten Tomatoes (nota > 80)\n",
    "cshows %>% filter(Year==2020, Rotten_Tomatoes>=80) %>%\n",
    "    ggplot(aes(reorder(Title,Rotten_Tomatoes),Rotten_Tomatoes)) + geom_col(aes(fill=Streamings)) +\n",
    "    coord_flip(ylim=c(75,105)) + xlab(\"Séries de 2020\") + ylab(\"Nota Rotten Tomatoes\") +\n",
    "    geom_text(aes(label = Rotten_Tomatoes), hjust = -.5)"
   ]
  },
  {
   "cell_type": "markdown",
   "metadata": {},
   "source": [
    "Outra análise interessante se dá pela faixa etária da série. Dessa forma, é possível também analisar a quantidade de títulos por faixa etária e plataforma"
   ]
  },
  {
   "cell_type": "code",
   "execution_count": 73,
   "metadata": {},
   "outputs": [
    {
     "data": {
      "text/plain": [
       "                  \n",
       "                   13+ 16+ 18+  7+ all\n",
       "  Disney             0   3   0  71  82\n",
       "  Netflix            3 394 355 271 151\n",
       "  Netflix,  Disney   0   0   0   4   4\n",
       "  Netflix, Prime     0  17   4  26  17\n",
       "  Prime              1 196 177 196 174"
      ]
     },
     "metadata": {},
     "output_type": "display_data"
    }
   ],
   "source": [
    "plataforma <- table(cshows$Streamings, cshows$Age)\n",
    "plataforma"
   ]
  },
  {
   "cell_type": "code",
   "execution_count": 76,
   "metadata": {},
   "outputs": [
    {
     "data": {
      "image/png": "[encoded data removed]",
      "text/plain": [
       "plot without title"
      ]
     },
     "metadata": {},
     "output_type": "display_data"
    }
   ],
   "source": [
    "barplot(plataforma,\n",
    "        beside = TRUE,\n",
    "        legend.text = c(\"Disney\", \"Netflix\", \"Netflix, Disney\", \"Netflix, Prime\", \"Prime\"),\n",
    "        col = c(\"#f8766d\", \"#a3a500\", \"#00bf7d\", \"#00b0f6\", \"#e76bf3\"),\n",
    "        ylim = c(0, 500))"
   ]
  },
  {
   "cell_type": "markdown",
   "metadata": {},
   "source": [
    "Uma outra visualização dos mesmos dados, mas com a inclusão de uma série temporal, se dá conforme abaixo"
   ]
  },
  {
   "cell_type": "code",
   "execution_count": 77,
   "metadata": {},
   "outputs": [
    {
     "data": {
      "image/png": "[encoded data removed]",
      "text/plain": [
       "plot without title"
      ]
     },
     "metadata": {},
     "output_type": "display_data"
    }
   ],
   "source": [
    "# Séries por ano, por faixa etária. Tirei idades 13+ (poucas séries) NA (não informativo)\n",
    "cshows %>% \n",
    "filter(Age != \"13+\", Age != \"NA\") %>% \n",
    "    ggplot(aes(x = Year, fill = Streamings)) +\n",
    "    geom_histogram(binwidth = 1, boundary = 0) +\n",
    "    facet_wrap(~ Age, ncol = 2)+ \n",
    "    labs(x = \"Ano\",\n",
    "    y = \"Quantidade de séries\",\n",
    "    title = \"Histograma de séries por ano\",\n",
    "    subtitle = \"Separação por classificação etária\")"
   ]
  },
  {
   "cell_type": "markdown",
   "metadata": {},
   "source": [
    "Agora, uma pergunta natural é: \"As séries de uma plataforma são melhores que de outra?\", isto é, há alguma correlação entre a plataforma de uma série e sua nota?\n",
    "\n",
    "Podemos ver isso abaixo, primeiro pelo IMDb"
   ]
  },
  {
   "cell_type": "code",
   "execution_count": 87,
   "metadata": {},
   "outputs": [
    {
     "data": {
      "text/html": [
       "0.00262974091108525"
      ],
      "text/latex": [
       "0.00262974091108525"
      ],
      "text/markdown": [
       "0.00262974091108525"
      ],
      "text/plain": [
       "[1] 0.002629741"
      ]
     },
     "metadata": {},
     "output_type": "display_data"
    }
   ],
   "source": [
    "notas_disney <- cshows %>% filter(Streamings == \"Disney\", !is.na(IMDb))\n",
    "var_disney <- varpop(notas_disney$IMDb)\n",
    "n_disney <- length(notas_disney$IMDb)\n",
    "\n",
    "notas_netflix <- cshows %>% filter(Streamings == \"Netflix\", !is.na(IMDb))\n",
    "var_netflix <- varpop(notas_netflix$IMDb)\n",
    "n_netflix <- length(notas_netflix$IMDb)\n",
    "\n",
    "notas_prime <- cshows %>% filter(Streamings == \"Prime\", !is.na(IMDb))\n",
    "var_prime <- varpop(notas_prime$IMDb)\n",
    "n_prime <- length(notas_prime$IMDb)\n",
    "\n",
    "notas_netflix_disney <- cshows %>% filter(Streamings == \"Netflix,  Disney\", !is.na(IMDb))\n",
    "var_netflix_disney <- varpop(notas_netflix_disney$IMDb)\n",
    "n_netflix_disney <- length(notas_netflix_disney$IMDb)\n",
    "\n",
    "notas_netflix_prime <- cshows %>% filter(Streamings == \"Netflix, Prime\", !is.na(IMDb))\n",
    "var_netflix_prime <- varpop(notas_netflix_prime$IMDb)\n",
    "n_netflix_prime <- length(notas_netflix_prime$IMDb)\n",
    "\n",
    "notas <- cshows %>% filter(!is.na(IMDb))\n",
    "var <- varpop(notas$IMDb)\n",
    "n_IMDb <- n_disney + n_netflix + n_prime + n_netflix_disney + n_netflix_prime\n",
    "\n",
    "var_barra <- (n_disney * var_disney + n_netflix * var_netflix + n_prime * var_prime + n_netflix_disney * var_netflix_disney + n_netflix_prime * var_netflix_prime)/n_IMDb\n",
    "r² <- 1 - var_barra/var\n",
    "r²"
   ]
  },
  {
   "cell_type": "code",
   "execution_count": 88,
   "metadata": {},
   "outputs": [
    {
     "name": "stderr",
     "output_type": "stream",
     "text": [
      "Warning message in chisq.test(cshows$Streamings, cshows$IMDb):\n",
      "\"Chi-squared approximation may be incorrect\""
     ]
    },
    {
     "data": {
      "text/html": [
       "<strong>$statistic</strong> = <strong>X-squared:</strong> 331.168177642657"
      ],
      "text/latex": [
       "\\textbf{\\$statistic} = \\textbf{X-squared:} 331.168177642657"
      ],
      "text/markdown": [
       "**$statistic** = **X-squared:** 331.168177642657"
      ],
      "text/plain": [
       "$statistic\n",
       "X-squared \n",
       " 331.1682 \n"
      ]
     },
     "metadata": {},
     "output_type": "display_data"
    }
   ],
   "source": [
    "X_squared <- chisq.test(cshows$Streamings, cshows$IMDb)\n",
    "X_squared[1]"
   ]
  },
  {
   "cell_type": "code",
   "execution_count": 89,
   "metadata": {},
   "outputs": [
    {
     "data": {
      "text/html": [
       "0.272062163172911"
      ],
      "text/latex": [
       "0.272062163172911"
      ],
      "text/markdown": [
       "0.272062163172911"
      ],
      "text/plain": [
       "[1] 0.2720622"
      ]
     },
     "metadata": {},
     "output_type": "display_data"
    }
   ],
   "source": [
    "C = sqrt(unname(X_squared[[\"statistic\"]])/(length(cshows$Streamings) + unname(X_squared[[\"statistic\"]])))\n",
    "C"
   ]
  },
  {
   "cell_type": "markdown",
   "metadata": {},
   "source": [
    "De onde percebe-se que aproximadamente 27% da nota do IMDb pode ser explicada através da Streaming.\n",
    "\n",
    "Podemos ver o mesmo de acordo com o Rotten Tomatoes."
   ]
  },
  {
   "cell_type": "code",
   "execution_count": 90,
   "metadata": {},
   "outputs": [
    {
     "data": {
      "text/html": [
       "0.0138082482571215"
      ],
      "text/latex": [
       "0.0138082482571215"
      ],
      "text/markdown": [
       "0.0138082482571215"
      ],
      "text/plain": [
       "[1] 0.01380825"
      ]
     },
     "metadata": {},
     "output_type": "display_data"
    }
   ],
   "source": [
    "notas_disney <- cshows %>% filter(Streamings == \"Disney\", !is.na(Rotten_Tomatoes))\n",
    "var_disney <- varpop(notas_disney$Rotten_Tomatoes)\n",
    "n_disney <- length(notas_disney$Rotten_Tomatoes)\n",
    "\n",
    "notas_netflix <- cshows %>% filter(Streamings == \"Netflix\", !is.na(Rotten_Tomatoes))\n",
    "var_netflix <- varpop(notas_netflix$Rotten_Tomatoes)\n",
    "n_netflix <- length(notas_netflix$Rotten_Tomatoes)\n",
    "\n",
    "notas_prime <- cshows %>% filter(Streamings == \"Prime\", !is.na(Rotten_Tomatoes))\n",
    "var_prime <- varpop(notas_prime$Rotten_Tomatoes)\n",
    "n_prime <- length(notas_prime$Rotten_Tomatoes)\n",
    "\n",
    "notas_netflix_prime <- cshows %>% filter(Streamings == \"Netflix, Prime\", !is.na(Rotten_Tomatoes))\n",
    "var_netflix_prime <- varpop(notas_netflix_prime$Rotten_Tomatoes)\n",
    "n_netflix_prime <- length(notas_netflix_prime$Rotten_Tomatoes)\n",
    "\n",
    "notas <- cshows %>% filter(!is.na(Rotten_Tomatoes))\n",
    "var <- varpop(notas$Rotten_Tomatoes)\n",
    "n_Rotten <- n_disney + n_netflix + n_prime + n_netflix_disney + n_netflix_prime\n",
    "\n",
    "var_barra <- (n_disney * var_disney + n_netflix * var_netflix + n_prime * var_prime + n_netflix_prime * var_netflix_prime)/n_Rotten\n",
    "r² <- 1 - var_barra/var\n",
    "r²"
   ]
  },
  {
   "cell_type": "code",
   "execution_count": 91,
   "metadata": {},
   "outputs": [
    {
     "name": "stderr",
     "output_type": "stream",
     "text": [
      "Warning message in chisq.test(cshows$Streamings, cshows$Rotten_Tomatoes):\n",
      "\"Chi-squared approximation may be incorrect\""
     ]
    },
    {
     "data": {
      "text/html": [
       "<strong>$statistic</strong> = <strong>X-squared:</strong> 241.0392694966"
      ],
      "text/latex": [
       "\\textbf{\\$statistic} = \\textbf{X-squared:} 241.0392694966"
      ],
      "text/markdown": [
       "**$statistic** = **X-squared:** 241.0392694966"
      ],
      "text/plain": [
       "$statistic\n",
       "X-squared \n",
       " 241.0393 \n"
      ]
     },
     "metadata": {},
     "output_type": "display_data"
    }
   ],
   "source": [
    "X_squared <- chisq.test(cshows$Streamings, cshows$Rotten_Tomatoes)\n",
    "X_squared[1]"
   ]
  },
  {
   "cell_type": "code",
   "execution_count": 92,
   "metadata": {},
   "outputs": [
    {
     "data": {
      "text/html": [
       "0.234480474036868"
      ],
      "text/latex": [
       "0.234480474036868"
      ],
      "text/markdown": [
       "0.234480474036868"
      ],
      "text/plain": [
       "[1] 0.2344805"
      ]
     },
     "metadata": {},
     "output_type": "display_data"
    }
   ],
   "source": [
    "C = sqrt(unname(X_squared[[\"statistic\"]])/(length(cshows$Streamings) + unname(X_squared[[\"statistic\"]])))\n",
    "C"
   ]
  },
  {
   "cell_type": "markdown",
   "metadata": {},
   "source": [
    "De onde percebe-se que aproximadamente 23% da nota do Rotten Tomatoes pode ser explicada através da Streaming. Aqui vale ressaltar que a quantidade de séries observadas é bem menor, conforme pode-se observar abaixo"
   ]
  },
  {
   "cell_type": "code",
   "execution_count": 95,
   "metadata": {},
   "outputs": [
    {
     "name": "stdout",
     "output_type": "stream",
     "text": [
      "[1] 3205\n",
      "[1] 716\n"
     ]
    }
   ],
   "source": [
    "print(n_IMDb)\n",
    "print(n_Rotten)"
   ]
  },
  {
   "cell_type": "markdown",
   "metadata": {},
   "source": [
    "Um outro detalhe interessante de se analisar é a distribuição das notas por plataforma, assim"
   ]
  },
  {
   "cell_type": "code",
   "execution_count": 96,
   "metadata": {},
   "outputs": [
    {
     "data": {
      "image/png": "[encoded data removed]",
      "text/plain": [
       "plot without title"
      ]
     },
     "metadata": {},
     "output_type": "display_data"
    }
   ],
   "source": [
    "stripchart(cshows$IMDb ~ cshows$Streamings, xlab = \"Nota IMDb\", ylab = \"Plataforma\")"
   ]
  },
  {
   "cell_type": "code",
   "execution_count": 97,
   "metadata": {},
   "outputs": [
    {
     "data": {
      "image/png": "[encoded data removed]",
      "text/plain": [
       "plot without title"
      ]
     },
     "metadata": {},
     "output_type": "display_data"
    }
   ],
   "source": [
    "stripchart(cshows$Rotten_Tomatoes ~ cshows$Streamings, xlab = \"Nota Rotten Tomatoes\", ylab = \"Plataforma\")"
   ]
  },
  {
   "cell_type": "markdown",
   "metadata": {},
   "source": [
    "Em virtude da quantidade de séries em plataformas como Netflix e Amazon Prime, uma melhor visualização se dá pelo boxplot dos dados"
   ]
  },
  {
   "cell_type": "code",
   "execution_count": 98,
   "metadata": {},
   "outputs": [
    {
     "name": "stderr",
     "output_type": "stream",
     "text": [
      "Warning message:\n",
      "\"Removed 938 rows containing non-finite values (stat_boxplot).\""
     ]
    },
    {
     "data": {
      "image/png": "[encoded data removed]",
      "text/plain": [
       "plot without title"
      ]
     },
     "metadata": {},
     "output_type": "display_data"
    }
   ],
   "source": [
    "cshows %>% \n",
    "ggplot(aes(x = Streamings, y = IMDb)) +\n",
    "geom_boxplot() +\n",
    "labs(x = \"Plataforma\",\n",
    "y = \"Nota IMDb\",\n",
    "title = \"Box plot das Notas IMDb por plataforma\")"
   ]
  },
  {
   "cell_type": "code",
   "execution_count": 102,
   "metadata": {},
   "outputs": [
    {
     "name": "stderr",
     "output_type": "stream",
     "text": [
      "Warning message:\n",
      "\"Removed 3427 rows containing non-finite values (stat_boxplot).\""
     ]
    },
    {
     "data": {
      "image/png": "[encoded data removed]",
      "text/plain": [
       "plot without title"
      ]
     },
     "metadata": {},
     "output_type": "display_data"
    }
   ],
   "source": [
    "cshows %>% filter(Streamings != \"Netflix,  Disney\") %>% \n",
    "ggplot(aes(x = Streamings, y = Rotten_Tomatoes)) +\n",
    "geom_boxplot() +\n",
    "labs(x = \"Plataforma\",\n",
    "y = \"Nota IMDb\",\n",
    "title = \"Box plot das Notas Rotten Tomatoes por plataforma\")"
   ]
  },
  {
   "cell_type": "markdown",
   "metadata": {},
   "source": [
    "Podemos também ver como as notas das séries se comportam ao comparar as duas notas obtidas."
   ]
  },
  {
   "cell_type": "code",
   "execution_count": 107,
   "metadata": {},
   "outputs": [
    {
     "name": "stderr",
     "output_type": "stream",
     "text": [
      "Warning message:\n",
      "\"Removed 3430 rows containing missing values (geom_point).\""
     ]
    },
    {
     "data": {
      "image/png": "[encoded data removed]",
      "text/plain": [
       "plot without title"
      ]
     },
     "metadata": {},
     "output_type": "display_data"
    }
   ],
   "source": [
    "cshows %>% filter(Streamings != \"Netflix,  Disney\") %>% \n",
    "ggplot(aes(x = IMDb, y = Rotten_Tomatoes, color = Streamings)) +\n",
    "labs(x = \"IMDb\", y = \"Rotten Tomatoes\", title = \"Nota IMDb x Rotten Tomatoes\") + \n",
    "geom_point()"
   ]
  },
  {
   "cell_type": "markdown",
   "metadata": {},
   "source": [
    "Note que a análise da quantidade de séries com cada nota fica complicada nesse gráfico, dessa forma, podemos dividir as plataformas em subgráficos:"
   ]
  },
  {
   "cell_type": "code",
   "execution_count": 108,
   "metadata": {},
   "outputs": [
    {
     "name": "stderr",
     "output_type": "stream",
     "text": [
      "Warning message:\n",
      "\"Removed 3430 rows containing missing values (geom_point).\""
     ]
    },
    {
     "data": {
      "image/png": "[encoded data removed]",
      "text/plain": [
       "plot without title"
      ]
     },
     "metadata": {},
     "output_type": "display_data"
    }
   ],
   "source": [
    "cshows %>% filter(Streamings != \"Netflix,  Disney\") %>% \n",
    "ggplot(aes(x = IMDb, y = Rotten_Tomatoes, color = Streamings)) +\n",
    "labs(x = \"IMDb\", y = \"Rotten Tomatoes\", title = \"Nota IMDb x Rotten Tomatoes\") + \n",
    "geom_point() +\n",
    "facet_wrap(~ Streamings, ncol = 2)"
   ]
  },
  {
   "cell_type": "code",
   "execution_count": 20,
   "metadata": {},
   "outputs": [
    {
     "name": "stdout",
     "output_type": "stream",
     "text": [
      "Rows: 4,143\n",
      "Columns: 7\n",
      "$ Title           <chr> \"Breaking Bad\", \"Stranger Things\", \"Money Heist\", \"She~\n",
      "$ Year            <dbl> 2008, 2016, 2017, 2010, 2015, 2005, 2011, 2005, 2005, ~\n",
      "$ Age             <chr> \"18+\", \"16+\", \"18+\", \"16+\", \"18+\", \"16+\", \"18+\", \"16+\"~\n",
      "$ IMDb            <dbl> 9.5, 8.8, 8.4, 9.1, 8.7, 8.9, 8.8, 8.4, 8.4, 8.8, 9.2,~\n",
      "$ Rotten_Tomatoes <dbl> 96, 93, 91, 78, 97, 81, 83, 93, 93, 92, 100, 81, 94, 8~\n",
      "$ Streamings      <chr> \"Netflix\", \"Netflix\", \"Netflix\", \"Netflix\", \"Netflix\",~\n",
      "$ Genre           <chr> \"Crime TV Shows, TV Dramas, TV Thrillers\", \"TV Horror,~\n"
     ]
    }
   ],
   "source": [
    "glimpse(cshows)"
   ]
  },
  {
   "cell_type": "code",
   "execution_count": null,
   "metadata": {},
   "outputs": [],
   "source": []
  },
  {
   "cell_type": "code",
   "execution_count": null,
   "metadata": {},
   "outputs": [],
   "source": []
  }
 ],
 "metadata": {
  "kernelspec": {
   "display_name": "R",
   "language": "R",
   "name": "ir"
  },
  "language_info": {
   "codemirror_mode": "r",
   "file_extension": ".r",
   "mimetype": "text/x-r-source",
   "name": "R",
   "pygments_lexer": "r",
   "version": "3.6.1"
  }
 },
 "nbformat": 4,
 "nbformat_minor": 4
}
